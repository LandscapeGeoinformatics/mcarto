{
 "cells": [
  {
   "cell_type": "markdown",
   "metadata": {},
   "source": [
    "# Sissejuhatus"
   ]
  },
  {
   "cell_type": "markdown",
   "metadata": {},
   "source": [
    "Esimese Cartopy praktikumi jooksul tutvume\n",
    "-  kaardiakna loomise ja kasutamisega;\n",
    "-  projektsioonide ja nende parameetritega;\n",
    "-  kaardi detailsuse ja kaardivõrgu konstrueerimisega;\n",
    "-  kaardile teksti lisamisega.\n",
    "\n",
    "Praktikumi lõpus teeme oskuste kinnistamiseks ka ise paar lihtsamat kartograafilist joonist."
   ]
  },
  {
   "cell_type": "markdown",
   "metadata": {},
   "source": [
    "1. Kaardiakna juhtimine<br>\n",
    "    1.1 Esimene kaardiaken<br>\n",
    "    1.2 Projektsiooni parameetrid<br>\n",
    "    1.3 Kaardi detailsus ja kaardivõrk<br>\n",
    "    1.4 Teksti lisamine<br>\n",
    "    1.5 Ülesanne"
   ]
  },
  {
   "cell_type": "markdown",
   "metadata": {},
   "source": [
    "# 1 Kaardiakna juhtimine"
   ]
  },
  {
   "cell_type": "markdown",
   "metadata": {},
   "source": [
    "## 1.1 Esimene kaardiaken"
   ]
  },
  {
   "cell_type": "markdown",
   "metadata": {},
   "source": [
    "Cartopy kaardiaken põhineb Pythoni jooniste loomise teegi [Matplotlib](https://matplotlib.org/) teljestikul. Esmalt tuleks luua tühi joonis, millele seejärel lisada teljestik ja hiljem muud elemendid. Teegi Matplotlib puhul toimub see järgmiselt:"
   ]
  },
  {
   "cell_type": "code",
   "execution_count": null,
   "metadata": {},
   "outputs": [],
   "source": [
    "# %matplotlib inline tagab selle, et joonised kuvatakse automaatselt ilma käsku plot() kasutamata\n",
    "%matplotlib inline\n",
    "import matplotlib.pyplot as plt\n",
    "\n",
    "plt.figure() # uus joonis\n",
    "ax = plt.axes() # uus teljestik"
   ]
  },
  {
   "cell_type": "markdown",
   "metadata": {},
   "source": [
    "Esialgse kaardiakna loomine on analoogne, aga selleks, et kaardi elemendid oleks soovitud projektsioonis, tuleks teljestiku loomisel lisada ka vastava projektsiooni info. Cartopy projektsioonide moodulis [crs](https://scitools.org.uk/cartopy/docs/latest/reference/projections.html) peaks olema saadaval kõik enam levinud kaardiprojektsioonid.\n",
    "\n",
    "Loome näiteks kaardiakna, mis kujutab maailma rannajoont [Lamberti (õigepindses) silindrilises projektsioonis](https://en.wikipedia.org/wiki/Lambert_cylindrical_equal-area_projection). Selleks loome uue objekti `proj`, mis hoiab soovitud projektsiooni infot. Vastava projektsiooni käsu `LambertCylindrical()` leiab eelnevalt viidatud mooduli käskude nimekirjast. Seejärel rakendame seda objekti uue teljestiku loomise käigus ja lisame projektsiooni mõju hindamiseks tühjale aknale käsuga `coastlines` rannajoone."
   ]
  },
  {
   "cell_type": "code",
   "execution_count": null,
   "metadata": {},
   "outputs": [],
   "source": [
    "import cartopy.crs as ccrs # cartopy projektsioonide mooduli import\n",
    "\n",
    "plt.figure(figsize=(12, 9)) # figsize määrab joonise suuruse\n",
    "proj = ccrs.LambertCylindrical() # objekt, mis hoiab projektsiooni infot\n",
    "ax = plt.axes(projection=proj) # projektsioonis teljestik\n",
    "ax.coastlines() # maailma rannajoon"
   ]
  },
  {
   "cell_type": "markdown",
   "metadata": {},
   "source": [
    "[algusesse](#Sissejuhatus)"
   ]
  },
  {
   "cell_type": "markdown",
   "metadata": {},
   "source": [
    "## 1.2 Projektsiooni parameetrid"
   ]
  },
  {
   "cell_type": "markdown",
   "metadata": {},
   "source": [
    "Antud näite puhul jäid käsu `LambertCylindrical()` rakendamise käigus sulud tühjaks, mis tähendab, et kasutati moodulis vaikimisi määratud parameetreid. Tegelikult on käsul olemas parameeter `central_longitude` (vaikimisi väärtus 0.0), mille abil saab muuta telgmeridiaani asukohta."
   ]
  },
  {
   "cell_type": "code",
   "execution_count": null,
   "metadata": {},
   "outputs": [],
   "source": [
    "plt.figure(figsize=(12, 9))\n",
    "ax = plt.axes(projection=ccrs.LambertCylindrical(central_longitude=90)) # uus telgmeridiaan\n",
    "ax.coastlines()"
   ]
  },
  {
   "cell_type": "markdown",
   "metadata": {},
   "source": [
    "Mooduli [crs](https://scitools.org.uk/cartopy/docs/latest/reference/projections.html) käskude nimekirja sirvides on näha, et enamasti on projektsioonidel rohkem kui üks parameeter ja seega on vajadusel sõltuvalt projektsioonist võimalik korrigeerida ka näiteks standardparalleelide või mõõtkavateguri väärtusi.\n",
    "\n",
    "Üritame järgnevalt luua Albersi õigepindses koonilises projektsioonis kaardi, mis kujutab Euroopat. Standardparalleelide ja telgmeridiaani paigutamisel on abiks [spatialreference.org](http://spatialreference.org/), kust leiab nii [antud projektsiooni](https://spatialreference.org/ref/esri/102013/wkt.html) kui ka paljude teiste globaalsete ja regionaalsete projektsioonide parameetrid."
   ]
  },
  {
   "cell_type": "code",
   "execution_count": null,
   "metadata": {},
   "outputs": [],
   "source": [
    "plt.figure(figsize=(12, 9))\n",
    "proj = ccrs.AlbersEqualArea(central_longitude=10, central_latitude=30, standard_parallels=(43, 62))\n",
    "ax = plt.axes(projection=proj)\n",
    "ax.coastlines()"
   ]
  },
  {
   "cell_type": "markdown",
   "metadata": {},
   "source": [
    "Kuna soovime näha Euroopat, siis tuleks käsu `set_extent()` abil määrata mingi mõistlik kaardiakna ulatus, et hetkel üleliigne osa maailmast välja jätta. Info käsu kasutamise kohta on [siin](https://scitools.org.uk/cartopy/docs/latest/reference/generated/cartopy.mpl.geoaxes.GeoAxes.html#cartopy.mpl.geoaxes.GeoAxes.set_extent). Ulatuse määramine muudab nii kujutise mõõtkava kui kaardiraami kuju. Näiteks muutub antud juhul kooniline raam ristkülikuks. Globaalse ulatuse saab taastada käsuga `set_global()`."
   ]
  },
  {
   "cell_type": "code",
   "execution_count": null,
   "metadata": {},
   "outputs": [],
   "source": [
    "plt.figure(figsize=(12, 9))\n",
    "ax = plt.axes(projection=proj)\n",
    "ax.coastlines()\n",
    "\n",
    "extent = (-20, 40, 20, 80) # ulatus kujul (x0, x1, y0, y1)\n",
    "ax.set_extent(extent)"
   ]
  },
  {
   "cell_type": "markdown",
   "metadata": {},
   "source": [
    "[algusesse](#Sissejuhatus)"
   ]
  },
  {
   "cell_type": "markdown",
   "metadata": {},
   "source": [
    "## 1.3 Kaardi detailsus ja kaardivõrk"
   ]
  },
  {
   "cell_type": "markdown",
   "metadata": {},
   "source": [
    "Eelmises kaardiaknas oli mõõtkava 1:110000000, mis on Cartopy vaikimisi määratud väärtus. Kui antud mõõtkava sobib hästi maailmakaardi jaoks, siis Euroopa puhul võiks pilt olla teravam. Detailsuse uurimiseks loome esmalt kaardi, mis kujutab Eesti piirkonda meie riiklikus, Lamberti konformses koonilises projektsioonis L-EST97, mille parameetrid leiab [siit](https://spatialreference.org/ref/epsg/3301/wkt.html). Nagu näha, siis tuleks seekord täpsustada ka lähtepunkti ristkoordinaadid (x0, y0), millele vastavad [parameetrid](https://scitools.org.uk/cartopy/docs/latest/reference/projections.html#lambertconformal) on `false_easting` ja `false_northing`."
   ]
  },
  {
   "cell_type": "code",
   "execution_count": null,
   "metadata": {},
   "outputs": [],
   "source": [
    "plt.figure(figsize=(8, 6))\n",
    "proj = ccrs.LambertConformal(\n",
    "    central_longitude=24, central_latitude=57.51755393055556, false_easting=500000, false_northing=6375000, \n",
    "    standard_parallels=(58, 59.33333333333334)\n",
    ")\n",
    "extent = (20.37, 28.2, 57.52, 60)\n",
    "ax = plt.axes(projection=proj)\n",
    "ax.coastlines(resolution='50m')\n",
    "ax.set_extent(extent)"
   ]
  },
  {
   "cell_type": "markdown",
   "metadata": {},
   "source": [
    "Kasutame nüüd vastavat parameetrit, et parandada Eesti rannajoone resolutsiooni. Hetkel on võimalik valida kolme erineva detailsuse astme vahel (1:10000000, 1:50000000 või 1:110000000). Tasub märkida, et kõrge resolutsiooni kasutamine globaalse ulatusega kaartide puhul mõjutab joonise kuvamise kiirust, kuna Cartopy ja teised analoogsed Pythoni teegid teevad oma arvutused mälus."
   ]
  },
  {
   "cell_type": "code",
   "execution_count": null,
   "metadata": {},
   "outputs": [],
   "source": [
    "plt.figure(figsize=(8, 6))\n",
    "ax = plt.axes(projection=proj)\n",
    "ax.coastlines(resolution='10m') # resolutsiooni parameeter ('10m', '50m' või '110m')\n",
    "ax.set_extent(extent)"
   ]
  },
  {
   "cell_type": "markdown",
   "metadata": {},
   "source": [
    "Võtame nüüd vaatluse alla kaardivõrgu konstrueerimise Mollweide projektsiooni näitel. Selleks puhuks on olemas käsk `gridlines`, mis määrab projektsioonile vaikimisi mingi teatud vahemikuga võrgustiku."
   ]
  },
  {
   "cell_type": "code",
   "execution_count": null,
   "metadata": {},
   "outputs": [],
   "source": [
    "plt.figure(figsize=(12, 9))\n",
    "proj = ccrs.Mollweide()\n",
    "ax = plt.axes(projection=proj)\n",
    "ax.coastlines()\n",
    "\n",
    "gl = ax.gridlines() # võrgustiku objekt"
   ]
  },
  {
   "cell_type": "markdown",
   "metadata": {},
   "source": [
    "Soovi korral saab meridiaanide ja paralleelide vahemikku vastavalt parameetrite `xlocs` ja `ylocs` abil muuta. Lisaks võib korrigeerida võrgujoonte laiust, värvi jms. Kahjuks on hetkel võimalik võrgule lisada meridiaanide ja paralleelide silte (parameeter `draw_labels=True`) vaid kahe projektsiooni (Mercator ja PlateCarree) puhul."
   ]
  },
  {
   "cell_type": "code",
   "execution_count": null,
   "metadata": {},
   "outputs": [],
   "source": [
    "plt.figure(figsize=(12, 9))\n",
    "ax = plt.axes(projection=proj)\n",
    "ax.coastlines()\n",
    "\n",
    "# Meridiaanid vahemikus [-180, -90, 0, 90, 180]\n",
    "xlocs = [-180, -90, 0, 90, 180]\n",
    "\n",
    "# Paralleelid vahemikus -90 kuni 90, 30-kraadise intervalliga\n",
    "ylocs = []\n",
    "i = -90\n",
    "while i <= 90:\n",
    "    ylocs.append(i)\n",
    "    i += 30\n",
    "\n",
    "# Lisame võrgu\n",
    "gl = ax.gridlines(xlocs=xlocs, ylocs=ylocs, linewidth=2, color='gray', alpha=0.5)\n",
    "\n",
    "# Eraldi saab lisada ka mitu võrku, nt kui on vaja lisada pöörijooned\n",
    "tropics = ax.gridlines(ylocs=[-66.5, -23.43691, 23.43691, 66.5], linewidth=2, linestyle='--', color='gray', alpha=0.5)\n",
    "tropics.xlines=False # peidame teise võrgu meridiaanid"
   ]
  },
  {
   "cell_type": "markdown",
   "metadata": {},
   "source": [
    "[algusesse](#Sissejuhatus)"
   ]
  },
  {
   "cell_type": "markdown",
   "metadata": {},
   "source": [
    "## 1.4 Teksti lisamine"
   ]
  },
  {
   "cell_type": "markdown",
   "metadata": {},
   "source": [
    "Kuigi lisadetailide konstrueerimist käsitleb täpsemalt järgmine Cartopy juhend, vaatame enne seda üle teksti lisamise kaardile selleks, et me saaks oma joonise allkirjastada. Teksti lisamine toimub käsu [text()](https://matplotlib.org/stable/api/text_api.html#) abil ja sõltuvalt sellest, kas tekst asub kaardiraami sees või väljas, tuleb kasutada erinevaid parameetreid. Kui tekst asub raami sees, tuleks asukoht määrata geograafiliste koordinaatide kaudu. Sellisel juhul peab parameetri transform väärtus olema `Geodetic()` või `PlateCarree()`, kuna vastasel juhul ei saa Cartopy aru, et tegemist on geograafiliste koordinaatidega. Raamisiseste koordinaatide puhul on vastav parameeter aga `transAxes`.\n",
    "\n",
    "Nüüd tasub üle vaadata ka joonise salvestamine käsu [savefig()](https://matplotlib.org/api/_as_gen/matplotlib.pyplot.savefig.html) abil. Joonise formaadi (PNG, PDF jne) saab määrata faili nime laiendiga. Parameeter `dpi` täpsustab faili resolutsiooni."
   ]
  },
  {
   "cell_type": "code",
   "execution_count": null,
   "metadata": {},
   "outputs": [],
   "source": [
    "plt.figure(figsize=(12, 9))\n",
    "proj = ccrs.Mollweide()\n",
    "ax = plt.axes(projection=proj)\n",
    "ax.coastlines()\n",
    "gl = ax.gridlines()\n",
    "\n",
    "# Raamisisene tekst\n",
    "ax.text(5, 10, 'Aafrika', transform=ccrs.Geodetic(), color='red', size='x-large')\n",
    "\n",
    "# Raamiväline tekst\n",
    "ax.text(1, -0.05, 'Mollweide projektsioon', transform=ax.transAxes, ha='right', size='large', weight='bold')\n",
    "ax.text(1, -0.1, 'Autor', transform=ax.transAxes, ha='right', size=12, style='italic')\n",
    "\n",
    "# Salvestamine\n",
    "plt.savefig('mollweide.png', dpi=200)"
   ]
  },
  {
   "cell_type": "markdown",
   "metadata": {},
   "source": [
    "[algusesse](#Sissejuhatus)"
   ]
  },
  {
   "cell_type": "markdown",
   "metadata": {},
   "source": [
    "## 1.5 Ülesanne"
   ]
  },
  {
   "cell_type": "markdown",
   "metadata": {},
   "source": [
    "Ürita antud juhendile tuginedes luua ja salvestada kaks joonist.\n",
    "\n",
    "Esimene võiks olla maailmakaart, mis täidab järgmised nõuded:\n",
    "-  on mingis antud juhendis veel käsitlemata projektsioonis;\n",
    "-  sellele on lisatud kaardivõrk, mis ei kasuta Cartopy vaikimisi määratud parameetreid;\n",
    "-  kaardile on käsu `add_feature` abil lisatud vähemalt kaks (nt rannajoon ja meri) täiendavat kihti (vt alumist näidet ja [siit](https://scitools.org.uk/cartopy/docs/v0.14/matplotlib/feature_interface.html?#cartopy.feature.cartopy.feature.BORDERS));\n",
    "-  lisatud on projektsiooni ja autori nimi."
   ]
  },
  {
   "cell_type": "code",
   "execution_count": null,
   "metadata": {},
   "outputs": [],
   "source": [
    "import cartopy.feature as cfeature\n",
    "\n",
    "plt.figure(figsize=(12, 9))\n",
    "ax = plt.axes(projection=proj)\n",
    "ax.coastlines()\n",
    "ax.add_feature(cfeature.LAND) # maismaa\n",
    "ax.add_feature(cfeature.OCEAN) # meri"
   ]
  },
  {
   "cell_type": "code",
   "execution_count": null,
   "metadata": {},
   "outputs": [],
   "source": [
    "# Esimese joonise kood"
   ]
  },
  {
   "cell_type": "markdown",
   "metadata": {},
   "source": [
    "Teine joonis kujutab mingit piirkonda ja täidab järgmised nõuded:\n",
    "-  piirkond ei ole Eesti ega Euroopa (võib olla aga osa Euroopast);\n",
    "-  joonise resolutsioon on 1:10000000;\n",
    "-  sellele on lisatud kaardivõrk;\n",
    "-  käsu `add_feature` abil on lisatud vähemalt riigipiirid;\n",
    "-  lisatud on projektsiooni ja autori nimi."
   ]
  },
  {
   "cell_type": "code",
   "execution_count": null,
   "metadata": {},
   "outputs": [],
   "source": [
    "# Teise joonise kood"
   ]
  },
  {
   "cell_type": "markdown",
   "metadata": {},
   "source": [
    "[algusesse](#Sissejuhatus)"
   ]
  }
 ],
 "metadata": {
  "kernelspec": {
   "display_name": "geopython2025",
   "language": "python",
   "name": "geopython2025"
  },
  "language_info": {
   "codemirror_mode": {
    "name": "ipython",
    "version": 3
   },
   "file_extension": ".py",
   "mimetype": "text/x-python",
   "name": "python",
   "nbconvert_exporter": "python",
   "pygments_lexer": "ipython3",
   "version": "3.11.11"
  }
 },
 "nbformat": 4,
 "nbformat_minor": 4
}
