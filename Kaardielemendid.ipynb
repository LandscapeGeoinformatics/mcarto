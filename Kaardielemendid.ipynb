{
 "cells": [
  {
   "cell_type": "markdown",
   "metadata": {},
   "source": [
    "# Sissejuhatus"
   ]
  },
  {
   "cell_type": "markdown",
   "metadata": {},
   "source": [
    "Teise praktikumi jooksul tutvume täiendavate kaardielementidega:\n",
    "-  punkttähised, tekst ja legend;\n",
    "-  kahe aknaga joonised;\n",
    "-  ortodroom ja loksodroom;\n",
    "-  almukantaraat;\n",
    "-  moondeellips."
   ]
  },
  {
   "cell_type": "markdown",
   "metadata": {},
   "source": [
    "2. Kaardielemendid<br>\n",
    "    2.1 Punkttähised, tekst ja legend<br>\n",
    "    2.2 Kahe aknaga joonis<br>\n",
    "    2.3 Ortodroom ja loksodroom<br>\n",
    "    2.4 Almukantaraat<br>\n",
    "    2.5 Moondeellips<br>\n",
    "    2.6 Ülesanne"
   ]
  },
  {
   "cell_type": "markdown",
   "metadata": {},
   "source": [
    "# 2 Kaardielemendid"
   ]
  },
  {
   "cell_type": "markdown",
   "metadata": {},
   "source": [
    "## 2.1 Punkttähised, tekst ja legend"
   ]
  },
  {
   "cell_type": "markdown",
   "metadata": {},
   "source": [
    "Järgnevalt uurime, kuidas lisada joonisele mõned täiendavad elemendid nagu punkttähised, nende juurde kuuluv tekst ja kaardi legend. Kaardi põhja moodustame mooduli [feature](https://scitools.org.uk/cartopy/docs/latest/matplotlib/feature_interface.html) kihtidest (käsk `NaturalEarthFeature()`). Seejärel lisame käsu `plot()` abil Baltimaade pealinnade punkttähised. Käsu esimene ja teine parameeter on vastavalt linnade pikkus- ja laiuskraadide nimekiri. Linnade koordinaadid peab eelnevalt teisendama kaardiakna projektsiooni (käsk `transform_point()`). Kui lisada korraga mitu punkti, siis vaikimisi üritab Cartopy need ühendada joontega. Joonte vältimiseks tuleks need peita (`linestyle='None'`).\n",
    "\n",
    "Linnade nimed lisame käsuga `text()` ja halo käsuga `set_path_effects()`. Pealkirja jaoks saab kasutada käsku [set_title()](https://matplotlib.org/api/_as_gen/matplotlib.axes.Axes.set_title.html). Käsk [legend()](https://matplotlib.org/api/_as_gen/matplotlib.pyplot.legend.html) lisab legendi ja juhul, kui punktide puhul on varem täpsustatud parameeter `label`, siis lisatakse vastava elemendi kirje legendi automaatselt."
   ]
  },
  {
   "cell_type": "code",
   "execution_count": null,
   "metadata": {},
   "outputs": [],
   "source": [
    "%matplotlib inline\n",
    "import matplotlib.pyplot as plt\n",
    "import matplotlib.patheffects as PathEffects # vajalik teksti ümber halo lisamiseks\n",
    "import cartopy.crs as ccrs\n",
    "import cartopy.feature as cfeature"
   ]
  },
  {
   "cell_type": "code",
   "execution_count": null,
   "metadata": {},
   "outputs": [],
   "source": [
    "plt.figure(figsize=(12, 9))\n",
    "proj = ccrs.AlbersEqualArea()\n",
    "ax = plt.axes(projection=proj)\n",
    "\n",
    "# Kaardikihid\n",
    "resolution = '50m'\n",
    "ax.add_feature(\n",
    "    cfeature.NaturalEarthFeature('physical', 'ocean', resolution, facecolor=cfeature.COLORS['water'])\n",
    ")\n",
    "ax.add_feature(\n",
    "    cfeature.NaturalEarthFeature('physical', 'land', resolution, edgecolor='black', facecolor=cfeature.COLORS['land'])\n",
    ")\n",
    "ax.add_feature(\n",
    "    cfeature.NaturalEarthFeature('physical', 'lakes', resolution, edgecolor='gray', facecolor=cfeature.COLORS['water'])\n",
    ")\n",
    "ax.add_feature(\n",
    "    cfeature.NaturalEarthFeature('cultural', 'admin_0_countries', resolution, edgecolor='black', facecolor='none')\n",
    ")\n",
    "\n",
    "# Linnade koordinaadid\n",
    "tln_lon, tln_lat = 24.745278, 59.437222 # Tallinn\n",
    "rig_lon, rig_lat = 24.106389, 56.948889 # Riia\n",
    "vln_lon, vln_lat = 25.283333, 54.683333 # Vilnius\n",
    "\n",
    "# Koordinaatide transformeerimine\n",
    "tln_lon_tp, tln_lat_tp = proj.transform_point(tln_lon, tln_lat, ccrs.Geodetic())\n",
    "rig_lon_tp, rig_lat_tp = proj.transform_point(rig_lon, rig_lat, ccrs.Geodetic())\n",
    "vln_lon_tp, vln_lat_tp = proj.transform_point(vln_lon, vln_lat, ccrs.Geodetic())\n",
    "\n",
    "# Punktid linnade tähistamiseks\n",
    "ax.plot(\n",
    "    [tln_lon_tp, rig_lon_tp, vln_lon_tp], [tln_lat_tp, rig_lat_tp, vln_lat_tp], \n",
    "    color='red', marker='o', markersize=10, linestyle='None', label='pealinnad', transform=proj\n",
    ")\n",
    "\n",
    "# Linnade nimed\n",
    "txt1 = ax.text(tln_lon-1.2, tln_lat+0.3, 'Tallinn', fontsize=16, horizontalalignment='left', transform=ccrs.Geodetic())\n",
    "txt1.set_path_effects([PathEffects.withStroke(linewidth=5, foreground='w')]) # halo teksti ümber\n",
    "txt2 = ax.text(rig_lon+0.8, rig_lat, 'Riia', fontsize=16, horizontalalignment='right', transform=ccrs.Geodetic())\n",
    "txt2.set_path_effects([PathEffects.withStroke(linewidth=5, foreground='w')])\n",
    "txt3 = ax.text(vln_lon-1.1, vln_lat+0.3, 'Vilnius', fontsize=16, horizontalalignment='left', transform=ccrs.Geodetic())\n",
    "txt3.set_path_effects([PathEffects.withStroke(linewidth=5, foreground='w')])\n",
    "\n",
    "# Joonise pealkiri\n",
    "ax.set_title('Baltimaade pealinnad', fontsize=16)\n",
    "\n",
    "# Ulatus\n",
    "extent = (20, 30, 55, 60)\n",
    "ax.set_extent(extent)\n",
    "\n",
    "# Legend\n",
    "plt.legend()"
   ]
  },
  {
   "cell_type": "markdown",
   "metadata": {},
   "source": [
    "[algusesse](#Sissejuhatus)"
   ]
  },
  {
   "cell_type": "markdown",
   "metadata": {},
   "source": [
    "##  2.2 Kahe aknaga joonis"
   ]
  },
  {
   "cell_type": "markdown",
   "metadata": {},
   "source": [
    "Cartopy võimaldab luua ka kahe (või mitme) aknaga jooniseid. Selleks tuleks lihtsalt samale joonisele konstrueerida kaks teljestikku, millele saab seejärel määrata erinevad projektsioonid. Teljestikud saab üles ehitada teegi Matplotlib käsu [subplot()](https://matplotlib.org/api/_as_gen/matplotlib.pyplot.subplot.html) kaudu. Igasugused täiendavad elemendid (tekst, pealkirjad, kaardikihid jne) on võimalik lisada eraldi iga teljestiku jaoks."
   ]
  },
  {
   "cell_type": "code",
   "execution_count": null,
   "metadata": {},
   "outputs": [],
   "source": [
    "# Projektsioonide objektid\n",
    "proj1 = ccrs.LambertAzimuthalEqualArea()\n",
    "proj2 = ccrs.Mollweide()\n",
    "\n",
    "plt.figure(figsize=(16, 12))\n",
    "\n",
    "# Esimene teljestik\n",
    "ax1 = plt.subplot(2, 1, 1, projection=proj1)\n",
    "ax1.stock_img() # madala resolutsiooniga füüsiline maailmakaart\n",
    "ax1.coastlines()\n",
    "ax1.set_title('Lamberti õigepindne asimutaalne projektsioon', fontsize=16)\n",
    "\n",
    "# Teine teljestik\n",
    "ax2 = plt.subplot(2, 1, 2, projection=proj2)\n",
    "ax2.stock_img()\n",
    "ax2.coastlines()\n",
    "ax2.set_title('Mollweide projektsioon', fontsize=16)"
   ]
  },
  {
   "cell_type": "markdown",
   "metadata": {},
   "source": [
    "[algusesse](#Sissejuhatus)"
   ]
  },
  {
   "cell_type": "markdown",
   "metadata": {},
   "source": [
    "## 2.3 Ortodroom ja loksodroom"
   ]
  },
  {
   "cell_type": "markdown",
   "metadata": {},
   "source": [
    "Järgnevalt uurime [ortodroomi](https://en.wikipedia.org/wiki/Great-circle_distance) (ka lühim teekond või geodeetiline joon) ja [loksodroomi](https://en.wikipedia.org/wiki/Rhumb_line) ehk samaasimuudijoone konstrueerimist. Võtame selleks kaks linna (nt Los Angeles ja Madrid) ja vaatleme, kuidas erinevad oma trajektoori poolest vastavalt nendevahelised ortodroom, loksodroom ja sirgjoon. Kõik jooned saab lisada standardse käsuga `plot()`, kuid sõltuvalt joonest tuleks parameetri `transform()` projektsiooni väärtuseks määrata \n",
    "-  ortodroomi puhul `Geodetic()`;\n",
    "-  loksodroomi korral `PlateCarree()`;\n",
    "-  sirgjoone puhul see projektsioon, mida on eelnevalt kasutatud kaardiakna loomise käigus.\n",
    "\n",
    "Lisaks peab sirgjoone jaoks ka punktide koordinaadid teisendama kaardiakna projektsiooni (käsk `transform_point()`)."
   ]
  },
  {
   "cell_type": "code",
   "execution_count": null,
   "metadata": {},
   "outputs": [],
   "source": [
    "# Linnade koordinaadid\n",
    "la_lon, la_lat = -118.4, 33.9 # Los Angeles\n",
    "mad_lon, mad_lat = -3.6, 40.5 # Madrid\n",
    "\n",
    "plt.figure(figsize=(12, 9))\n",
    "proj = ccrs.LambertConformal()\n",
    "ax = plt.axes(projection=proj)\n",
    "ax.coastlines()\n",
    "ax.gridlines()\n",
    "\n",
    "# Ortodroom\n",
    "ax.plot(\n",
    "    [la_lon, mad_lon], [la_lat, mad_lat], color='blue', linewidth=2, label='ortodroom', transform=ccrs.Geodetic()\n",
    ")\n",
    "\n",
    "# Loksodroom\n",
    "ax.plot(\n",
    "    [la_lon, mad_lon], [la_lat, mad_lat], color='red', linewidth=2, label='loksodroom', transform=ccrs.PlateCarree()\n",
    ")\n",
    "\n",
    "# Koordinaatide transformeerimine\n",
    "la_lon_tp1, la_lat_tp1 = proj.transform_point(la_lon, la_lat, ccrs.Geodetic())\n",
    "mad_lon_tp1, mad_lat_tp1 = proj.transform_point(mad_lon, mad_lat, ccrs.Geodetic())\n",
    "\n",
    "# Sirgjoon kahe linna vahel\n",
    "ax.plot(\n",
    "    [la_lon_tp1, mad_lon_tp1], [la_lat_tp1, mad_lat_tp1], color='black', linestyle='--', label='sirgjoon', transform=proj\n",
    ")\n",
    "\n",
    "plt.legend()"
   ]
  },
  {
   "cell_type": "markdown",
   "metadata": {},
   "source": [
    "On näha, et sõltuvalt joonte konstrueerimise põhimõtetest erinevad joonte trajektoorid üsna palju. Joonte erinevused sõltuvad aga ka projektsioonist. Näiteks kattub Mercatori kui silindrilise õigenurkse projektsiooni korral loksodroom sirgjoonega ehk nende trajektoor on sama.\n",
    "\n",
    "Optimeerimise huvides kasutab Cartopy antud joonte kuvamisel väga madalat resolutsiooni, mis tuli hästi esile just eelmise joonise puhul. Parema resolutsiooni saamiseks tuleb üle kirjutada vastava projektsiooni resolutsiooni parameetri väärtus. Selleks tuleks luua algse projektsiooni põhjal uus projektsiooni objekt, kus antud parameeter on vastavalt vajadusele muudetud."
   ]
  },
  {
   "cell_type": "code",
   "execution_count": null,
   "metadata": {},
   "outputs": [],
   "source": [
    "# Kõrgema resolutsiooniga projektsioonide objektid\n",
    "lambert_hd = ccrs.LambertAzimuthalEqualArea()\n",
    "mollweide_hd = ccrs.Mollweide()"
   ]
  },
  {
   "cell_type": "markdown",
   "metadata": {},
   "source": [
    "Projektsiooni teravdamiseks kirjutame üle parameetri `_threshold`."
   ]
  },
  {
   "cell_type": "code",
   "execution_count": null,
   "metadata": {},
   "outputs": [],
   "source": [
    "# Muudame resolutsiooni 100 korda kõrgemaks\n",
    "lambert_hd._threshold = lambert_hd._threshold / 100\n",
    "mollweide_hd._threshold = mollweide_hd._threshold / 100"
   ]
  },
  {
   "cell_type": "markdown",
   "metadata": {},
   "source": [
    "Võrdleme nüüd nende joonte trajektooride erinevust kahe erineva projektsiooni näitel. Eelnevalt defineeritud parema resolutsiooniga projektsioonide objektide kasutamiseks tuleks neid rakendada kaardiakende telgede loomise juures. Antud juhul kasutame objekti `lambert_hd` ülemise ja klassi `mollweide_hd` alumise akna telgede jaoks. Kõik jooned tuleks akende puhul defineerida eraldi ja tasub märkida, et kuigi akna projektsioon on määratud uue objekti abil, siis sirgjoone koordinaatide teisendamise peab siiski kasutama algset projektsiooni."
   ]
  },
  {
   "cell_type": "code",
   "execution_count": null,
   "metadata": {},
   "outputs": [],
   "source": [
    "# Ulatus\n",
    "extent = (-120, 20, 0, 60)\n",
    "\n",
    "plt.figure(figsize=(16, 12))\n",
    "\n",
    "# Esimene teljestik\n",
    "\n",
    "# Määrame joonise projektsiooniks eelnevalt loodud parema resolutsiooniga objekti\n",
    "ax1 = plt.subplot(2, 1, 1, projection=lambert_hd)\n",
    "ax1.coastlines()\n",
    "ax1.gridlines()\n",
    "# Ortodroom\n",
    "ax1.plot(\n",
    "    [la_lon, mad_lon], [la_lat, mad_lat], color='blue', linewidth=2, transform=ccrs.Geodetic()\n",
    ")\n",
    "# Loksodroom\n",
    "ax1.plot(\n",
    "    [la_lon, mad_lon], [la_lat, mad_lat], color='red', linewidth=2, transform=ccrs.PlateCarree()\n",
    ")\n",
    "# Koordinaatide transformeerimine\n",
    "la_lon_tp1, la_lat_tp1 = proj1.transform_point(la_lon, la_lat, ccrs.Geodetic())\n",
    "mad_lon_tp1, mad_lat_tp1 = proj1.transform_point(mad_lon, mad_lat, ccrs.Geodetic())\n",
    "# Sirgjoon kahe linna vahel\n",
    "ax1.plot(\n",
    "    [la_lon_tp1, mad_lon_tp1], [la_lat_tp1, mad_lat_tp1], color='black', linestyle='--', transform=proj1\n",
    ")\n",
    "# Punktid linnade tähistamiseks\n",
    "ax1.plot(\n",
    "    [la_lon_tp1, mad_lon_tp1], [la_lat_tp1, mad_lat_tp1], \n",
    "    color='black', marker='*', markersize=10, linestyle='None', transform=proj1\n",
    ")\n",
    "# Linnade nimed\n",
    "txt1 = ax1.text(la_lon-1, la_lat+1, 'LA', fontsize=12, horizontalalignment='right', transform=ccrs.Geodetic())\n",
    "txt1.set_path_effects([PathEffects.withStroke(linewidth=5, foreground='w')]) # halo teksti ümber\n",
    "txt2 = ax1.text(mad_lon+1, mad_lat+1, 'Madrid', fontsize=12, horizontalalignment='left', transform=ccrs.Geodetic())\n",
    "txt2.set_path_effects([PathEffects.withStroke(linewidth=5, foreground='w')])\n",
    "# Joonise pealkiri\n",
    "ax1.set_title('Lamberti õigepindne asimutaalne projektsioon', fontsize=16)\n",
    "ax1.set_extent(extent)\n",
    "\n",
    "# Teine teljestik\n",
    "\n",
    "# Määrame joonise projektsiooniks eelnevalt loodud parema resolutsiooniga objekti\n",
    "ax2 = plt.subplot(2, 1, 2, projection=mollweide_hd)\n",
    "ax2.coastlines()\n",
    "ax2.gridlines()\n",
    "# Ortodroom\n",
    "ax2.plot(\n",
    "    [la_lon, mad_lon], [la_lat, mad_lat], color='blue', linewidth=2, transform=ccrs.Geodetic()\n",
    ")\n",
    "# Loksodroom\n",
    "ax2.plot(\n",
    "    [la_lon, mad_lon], [la_lat, mad_lat], color='red', linewidth=2, transform=ccrs.PlateCarree()\n",
    ")\n",
    "# Koordinaatide transformeerimine\n",
    "la_lon_tp2, la_lat_tp2 = proj2.transform_point(la_lon, la_lat, ccrs.Geodetic())\n",
    "mad_lon_tp2, mad_lat_tp2 = proj2.transform_point(mad_lon, mad_lat, ccrs.Geodetic())\n",
    "# Sirgjoon kahe linna vahel\n",
    "ax2.plot(\n",
    "    [la_lon_tp2, mad_lon_tp2], [la_lat_tp2, mad_lat_tp2], color='black', linestyle='--', transform=proj2\n",
    ")\n",
    "# Punktid linnade tähistamiseks\n",
    "ax2.plot(\n",
    "    [la_lon_tp2, mad_lon_tp2], [la_lat_tp2, mad_lat_tp2], \n",
    "    color='black', marker='*', markersize=10, linestyle='None', transform=proj2\n",
    ")\n",
    "# Linnade nimed\n",
    "txt1 = ax2.text(la_lon-1, la_lat+1, 'LA', fontsize=12, horizontalalignment='right', transform=ccrs.Geodetic())\n",
    "txt1.set_path_effects([PathEffects.withStroke(linewidth=5, foreground='w')]) # halo teksti ümber\n",
    "txt2 = ax2.text(mad_lon+1, mad_lat+1, 'Madrid', fontsize=12, horizontalalignment='left', transform=ccrs.Geodetic())\n",
    "txt2.set_path_effects([PathEffects.withStroke(linewidth=5, foreground='w')])\n",
    "# Joonise pealkiri\n",
    "ax2.set_title('Mollweide projektsioon', fontsize=16)\n",
    "ax2.set_extent(extent)"
   ]
  },
  {
   "cell_type": "markdown",
   "metadata": {},
   "source": [
    "[algusesse](#Sissejuhatus)"
   ]
  },
  {
   "cell_type": "markdown",
   "metadata": {},
   "source": [
    "## 2.4 Almukantaraat"
   ]
  },
  {
   "cell_type": "markdown",
   "metadata": {},
   "source": [
    "[Almukantaraat](https://en.wikipedia.org/wiki/Almucantar) ehk samakaugusjoon on horisondiga paralleelne, kujuteldav ringjoon taevakeha või Maa pinnal. Cartopy teegis puudub almukantaraadi konstrueerimiseks vastav funktsioon. Küll aga on võimalik kaardile lisada mingit punkti ümbritsev ja teatud projektsioonis ringjoon. Seega saab ise luua almukantaraadi jaoks funktsiooni, mis arvutab keskpunkti koordinaatide, projektsiooni andmete ja raadiuse põhjal vastava raadiuse suuruse õiges projektsioonis."
   ]
  },
  {
   "cell_type": "code",
   "execution_count": null,
   "metadata": {},
   "outputs": [],
   "source": [
    "def get_radius(lon, lat, proj, radius):\n",
    "    # Kui laius on lõunalaius, siis tuleb raadius liita ja vastupidi\n",
    "    if lat <= 0:\n",
    "        phi = lat+radius\n",
    "    else:\n",
    "        phi = lat-radius\n",
    "    # Koordinaatide transformeerimine ja uue laiuse tagastamine\n",
    "    lon_tp, lat_tp = proj.transform_point(lon, phi, ccrs.PlateCarree())\n",
    "    return abs(lat_tp)"
   ]
  },
  {
   "cell_type": "markdown",
   "metadata": {},
   "source": [
    "Seejärel rakendame loodud funktsiooni samakaugusjoone lisamiseks. Antud juhul loome 45-kraadise raadiusega ringjoone ümber Tartu ja sama funktsiooni abil ka natuke suurema läbimõõduga nn puhvri, mis määrab meie kaardi ulatuse. Almukantaraadi kujutamiseks kasutatakse sageli mõnda poolkerakaartide projektsiooni ja hästi sobib näiteks ortograafiline projektsioon. Soovitud keskpunkti ja raadiusega ringjoone lisamiseks saab kasutada mooduli [patches](https://matplotlib.org/api/_as_gen/matplotlib.patches.Patch.html) käsku `Circle()`. Parameeter `zorder` määrab elemendi kuvamise järjekorra ja piisavalt suur väärtus tagab selle, et antud ringjoon oleks teiste kihtide peal."
   ]
  },
  {
   "cell_type": "code",
   "execution_count": null,
   "metadata": {},
   "outputs": [],
   "source": [
    "import matplotlib.patches as mpatches # vajalik ringi lisamiseks\n",
    "\n",
    "# Tartu koordinaadid\n",
    "trt_lon, trt_lat = 26.716667, 58.383333\n",
    "# Raadius\n",
    "r = 45\n",
    "# Projektsioon\n",
    "proj = ccrs.Orthographic(central_longitude=trt_lon, central_latitude=trt_lat)\n",
    "\n",
    "# Raadiuse ja puhvri arvutamine\n",
    "r_ortho = get_radius(trt_lon, trt_lat, proj, r)\n",
    "r_buff = get_radius(trt_lon, trt_lat, proj, r+5)\n",
    "\n",
    "plt.figure(figsize=(12, 9))\n",
    "ax = plt.axes(projection=proj)\n",
    "\n",
    "# Kuna set_extent() mingil põhjusel antud projektsiooniga hästi ei tööta, siis tuleb ulatus määrata nii\n",
    "ax.set_xlim([-r_buff, r_buff])\n",
    "ax.set_ylim([-r_buff, r_buff])\n",
    "\n",
    "resolution = '50m'\n",
    "ax.add_feature(cfeature.OCEAN)\n",
    "ax.add_feature(\n",
    "    cfeature.NaturalEarthFeature('physical', 'land', resolution, edgecolor='black', facecolor=cfeature.COLORS['land'])\n",
    ")\n",
    "ax.add_feature(\n",
    "    cfeature.NaturalEarthFeature('cultural', 'admin_0_countries', resolution, edgecolor='black', facecolor='none')\n",
    ")\n",
    "\n",
    "# Ringi lisamine välja arvutatud raadiuse abil\n",
    "ax.add_patch(\n",
    "    mpatches.Circle(xy=[trt_lon, trt_lat], radius=r_ortho, alpha=0.3, transform=proj, zorder=30, facecolor='red')\n",
    ")"
   ]
  },
  {
   "cell_type": "markdown",
   "metadata": {},
   "source": [
    "[algusesse](#Sissejuhatus)"
   ]
  },
  {
   "cell_type": "markdown",
   "metadata": {},
   "source": [
    "## 2.5 Moondeellips"
   ]
  },
  {
   "cell_type": "markdown",
   "metadata": {},
   "source": [
    "Viimaseks elemendiks on [moondeellips](https://en.wikipedia.org/wiki/Tissot%27s_indicatrix) ehk Tissot' indikatriss, mille saab lisada käsu [tissot()](https://scitools.org.uk/cartopy/docs/latest/reference/generated/cartopy.mpl.geoaxes.GeoAxes.html#cartopy.mpl.geoaxes.GeoAxes.tissot) abil. Kui käsu parameetrid jätta täpsustamata, siis kuvatakse moondeellipsid küll õiges projektsioonis, kuid nende asukoht ei kattu üldjuhul korralikult kaardivõrguga. Lisaks on ellipsid maailmakaardi jaoks ka ehk liiga väikse läbimõõduga."
   ]
  },
  {
   "cell_type": "code",
   "execution_count": null,
   "metadata": {},
   "outputs": [],
   "source": [
    "plt.figure(figsize=(12, 9))\n",
    "proj = ccrs.Mollweide()\n",
    "ax = plt.axes(projection=proj)\n",
    "ax.stock_img()\n",
    "ax.coastlines()\n",
    "\n",
    "# Meridiaanid vahemikus [-180, -90, 0, 90, 180]\n",
    "xlocs = [-180, -90, 0, 90, 180]\n",
    "\n",
    "# Paralleelid vahemikus -90 kuni 90, 30-kraadise intervalliga\n",
    "ylocs = []\n",
    "i = -90\n",
    "while i <= 90:\n",
    "    ylocs.append(i)\n",
    "    i += 30\n",
    "\n",
    "# Lisame võrgu\n",
    "gl = ax.gridlines(xlocs=xlocs, ylocs=ylocs, linewidth=2, color='gray', alpha=0.5)\n",
    "\n",
    "# Moondeellipsid\n",
    "ax.tissot(facecolor='orange', alpha=0.5)"
   ]
  },
  {
   "cell_type": "markdown",
   "metadata": {},
   "source": [
    "Kui soovime ellipsid paigutada sinna, kus meridiaanid ja paralleelid lõikuvad, siis tuleb nende asukoht määrata kaardivõrgu loomiseks kasutatud väärtusi. Ellipsite suurust saab korrigeerida parameetri `rad_km` abil. Loomulikult saab muuta ka ellipsite välimust (värv, läbipaistvus jne)."
   ]
  },
  {
   "cell_type": "code",
   "execution_count": null,
   "metadata": {},
   "outputs": [],
   "source": [
    "plt.figure(figsize=(12, 9))\n",
    "proj = ccrs.Mollweide()\n",
    "ax = plt.axes(projection=proj)\n",
    "ax.stock_img()\n",
    "ax.coastlines()\n",
    "\n",
    "xlocs = [-180, -90, 0, 90, 180]\n",
    "\n",
    "ylocs = []\n",
    "i = -90\n",
    "while i <= 90:\n",
    "    ylocs.append(i)\n",
    "    i += 30\n",
    "\n",
    "gl = ax.gridlines(xlocs=xlocs, ylocs=ylocs, linewidth=2, color='gray', alpha=0.5)\n",
    "\n",
    "# Moondeellipsid, mille raadius on 1000 km\n",
    "ax.tissot(rad_km=1000, lons=xlocs, lats=ylocs, facecolor='orange', alpha=0.5)"
   ]
  },
  {
   "cell_type": "markdown",
   "metadata": {},
   "source": [
    "[algusesse](#Sissejuhatus)"
   ]
  },
  {
   "cell_type": "markdown",
   "metadata": {},
   "source": [
    "## 2.6 Ülesanne"
   ]
  },
  {
   "cell_type": "markdown",
   "metadata": {},
   "source": [
    "Loo antud juhendile tuginedes kaks joonist.\n",
    "\n",
    "Esimene võiks olla maailmakaart, mis täidab järgmised nõuded:\n",
    "-  on antud juhendis veel käsitlemata projektsioonis;\n",
    "-  sellele on lisatud omatehtud kaardivõrk;\n",
    "-  kaardile on lisatud vähemalt kaks (nt rannajoon ja füüsiline kaart) täiendavat kihti;\n",
    "-  joonisel on ka moondeellipsid."
   ]
  },
  {
   "cell_type": "code",
   "execution_count": null,
   "metadata": {},
   "outputs": [],
   "source": [
    "# Esimese joonise kood"
   ]
  },
  {
   "cell_type": "markdown",
   "metadata": {},
   "source": [
    "Teisel joonisel on kaks kaardiakent ja see täidab järgmised nõuded:\n",
    "-  aknad on erineva projektsiooniga;\n",
    "-  punktidega on tähistatud kaks linna;\n",
    "-  mõlema puhul on linnade vahel nii ortodroom, loksodroom kui sirgjoon."
   ]
  },
  {
   "cell_type": "code",
   "execution_count": null,
   "metadata": {},
   "outputs": [],
   "source": [
    "# Teise joonise kood"
   ]
  },
  {
   "cell_type": "markdown",
   "metadata": {},
   "source": [
    "[algusesse](#Sissejuhatus)"
   ]
  }
 ],
 "metadata": {
  "kernelspec": {
   "display_name": "geopython2025",
   "language": "python",
   "name": "geopython2025"
  },
  "language_info": {
   "codemirror_mode": {
    "name": "ipython",
    "version": 3
   },
   "file_extension": ".py",
   "mimetype": "text/x-python",
   "name": "python",
   "nbconvert_exporter": "python",
   "pygments_lexer": "ipython3",
   "version": "3.11.11"
  }
 },
 "nbformat": 4,
 "nbformat_minor": 4
}
